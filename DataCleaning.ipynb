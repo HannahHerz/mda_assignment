{
 "cells": [
  {
   "cell_type": "markdown",
   "id": "f0dc9520-6bf0-4f8a-a52e-d1657c5f023d",
   "metadata": {},
   "source": [
    "STEP 1: LOAD NEEDED PACKAGES, EXPLORE DATAFRAMES, VARIABLES"
   ]
  },
  {
   "cell_type": "code",
   "execution_count": 1,
   "id": "a1d9e977-cca1-4fea-bcc5-dc8baa8141c5",
   "metadata": {},
   "outputs": [],
   "source": [
    "# import needed packages/libraries\n",
    "import os \n",
    "import pandas as pd\n",
    "import openpyxl"
   ]
  },
  {
   "cell_type": "code",
   "execution_count": 11,
   "id": "77cdb05b-3869-46bd-bcd2-2a7aae62270b",
   "metadata": {},
   "outputs": [
    {
     "name": "stderr",
     "output_type": "stream",
     "text": [
      "C:\\Users\\Marte\\anaconda3\\Lib\\site-packages\\openpyxl\\styles\\stylesheet.py:237: UserWarning: Workbook contains no default style, apply openpyxl's default\n",
      "  warn(\"Workbook contains no default style, apply openpyxl's default\")\n",
      "C:\\Users\\Marte\\anaconda3\\Lib\\site-packages\\openpyxl\\styles\\stylesheet.py:237: UserWarning: Workbook contains no default style, apply openpyxl's default\n",
      "  warn(\"Workbook contains no default style, apply openpyxl's default\")\n",
      "C:\\Users\\Marte\\anaconda3\\Lib\\site-packages\\openpyxl\\styles\\stylesheet.py:237: UserWarning: Workbook contains no default style, apply openpyxl's default\n",
      "  warn(\"Workbook contains no default style, apply openpyxl's default\")\n",
      "C:\\Users\\Marte\\anaconda3\\Lib\\site-packages\\openpyxl\\styles\\stylesheet.py:237: UserWarning: Workbook contains no default style, apply openpyxl's default\n",
      "  warn(\"Workbook contains no default style, apply openpyxl's default\")\n",
      "C:\\Users\\Marte\\anaconda3\\Lib\\site-packages\\openpyxl\\styles\\stylesheet.py:237: UserWarning: Workbook contains no default style, apply openpyxl's default\n",
      "  warn(\"Workbook contains no default style, apply openpyxl's default\")\n",
      "C:\\Users\\Marte\\anaconda3\\Lib\\site-packages\\openpyxl\\styles\\stylesheet.py:237: UserWarning: Workbook contains no default style, apply openpyxl's default\n",
      "  warn(\"Workbook contains no default style, apply openpyxl's default\")\n",
      "C:\\Users\\Marte\\anaconda3\\Lib\\site-packages\\openpyxl\\styles\\stylesheet.py:237: UserWarning: Workbook contains no default style, apply openpyxl's default\n",
      "  warn(\"Workbook contains no default style, apply openpyxl's default\")\n",
      "C:\\Users\\Marte\\anaconda3\\Lib\\site-packages\\openpyxl\\styles\\stylesheet.py:237: UserWarning: Workbook contains no default style, apply openpyxl's default\n",
      "  warn(\"Workbook contains no default style, apply openpyxl's default\")\n"
     ]
    }
   ],
   "source": [
    "# import data \n",
    "df_euroSciVoc = pd.read_excel('euroSciVoc.xlsx')\n",
    "df_projectDeliverables = pd.read_excel('projectDeliverables.xlsx')\n",
    "df_projectPublications = pd.read_excel('projectPublications.xlsx')\n",
    "df_legalBasis = pd.read_excel('legalBasis.xlsx')\n",
    "df_organization = pd.read_excel('organization.xlsx')\n",
    "df_project = pd.read_excel('project.xlsx')\n",
    "df_topics = pd.read_excel('topics.xlsx')\n",
    "df_webLink = pd.read_excel('webLink.xlsx')\n",
    "df_reportSummaries = pd.read_excel('reportSummaries.xlsx')"
   ]
  },
  {
   "cell_type": "code",
   "execution_count": 13,
   "id": "8ff5079e-ba47-410b-940e-354fe4de2e3b",
   "metadata": {},
   "outputs": [
    {
     "name": "stdout",
     "output_type": "stream",
     "text": [
      "                          id  \\\n",
      "0  101071179_10_DELIVHORIZON   \n",
      "1   101072491_9_DELIVHORIZON   \n",
      "2   101066116_3_DELIVHORIZON   \n",
      "3  101064988_11_DELIVHORIZON   \n",
      "4  101071179_51_DELIVHORIZON   \n",
      "\n",
      "                                               title  \\\n",
      "0    Technical/scientific review meeting 2 documents   \n",
      "1                            MIRELAI project website   \n",
      "2       Communication, Dissemination & Outreach Plan   \n",
      "3  SINFONICA Knowledge map creation and System Ar...   \n",
      "4                  Report on Portfolio activities 01   \n",
      "\n",
      "                          deliverableType  \\\n",
      "0                      Documents, reports   \n",
      "1  Websites, patent fillings, videos etc.   \n",
      "2                      Documents, reports   \n",
      "3                      Documents, reports   \n",
      "4                      Documents, reports   \n",
      "\n",
      "                                         description  projectID  \\\n",
      "0                     Draft agenda and presentations  101071179   \n",
      "1                            MIRELAI project website  101072491   \n",
      "2  The plan describes the planned measures to max...  101066116   \n",
      "3  The deliverable will be the output of Tasks 4....  101064988   \n",
      "4  The report will present the collaboration acti...  101071179   \n",
      "\n",
      "  projectAcronym                                                url  \\\n",
      "0        SUSTAIN  https://ec.europa.eu/research/participants/doc...   \n",
      "1        MIRELAI  https://ec.europa.eu/research/participants/doc...   \n",
      "2    Ship Clones  https://ec.europa.eu/research/participants/doc...   \n",
      "3      SINFONICA  https://ec.europa.eu/research/participants/doc...   \n",
      "4        SUSTAIN  https://ec.europa.eu/research/participants/doc...   \n",
      "\n",
      "            collection    contentUpdateDate      rcn  \n",
      "0  Project deliverable  2025-02-03 17:40:48  1246973  \n",
      "1  Project deliverable  2025-02-26 08:02:37  1256521  \n",
      "2  Project deliverable  2025-02-03 17:40:42  1246926  \n",
      "3  Project deliverable  2025-02-03 17:40:44  1246937  \n",
      "4  Project deliverable  2025-02-03 17:40:44  1246934  \n",
      "                              id  \\\n",
      "0  101040480_113381_PUBLIHORIZON   \n",
      "1  101040480_113371_PUBLIHORIZON   \n",
      "2  101040480_113383_PUBLIHORIZON   \n",
      "3  101040480_113375_PUBLIHORIZON   \n",
      "4  101040480_113374_PUBLIHORIZON   \n",
      "\n",
      "                                               title           isPublishedAs  \\\n",
      "0  The Microwave Rotational Electric Resonance (R...  Peer reviewed articles   \n",
      "1  The microwave spectra of the conformers of n-b...  Peer reviewed articles   \n",
      "2  Coupled internal rotations and 14N quadrupole ...  Peer reviewed articles   \n",
      "3  The Heavy Atom Structure, <i>“cis</i> effect” ...  Peer reviewed articles   \n",
      "4  Structure determination of 2,5-difluorophenol ...  Peer reviewed articles   \n",
      "\n",
      "                                             authors  \\\n",
      "0  Hamza El Hadki, Kenneth J. Koziol, Oum Keltoum...   \n",
      "1  Susanna L. Stephens, Eléonore Antonelli, Alexa...   \n",
      "2   Mike Barth, Isabelle Kleiner, Ha Vinh Lam Nguyen   \n",
      "3  Truong Anh Nguyen, Isabelle Kleiner, Martin Sc...   \n",
      "4  K.P. Rajappan Nair, Kevin G. Lengsfeld, Philip...   \n",
      "\n",
      "                        journalTitle journalNumber  publishedYear  \\\n",
      "0                          Molecules            28           2023   \n",
      "1  Journal of Molecular Spectroscopy           397           2024   \n",
      "2    The Journal of Chemical Physics           160           2024   \n",
      "3                       ChemPhysChem            25           2024   \n",
      "4     Journal of Molecular Structure          1321           2024   \n",
      "\n",
      "  publishedPages       issn isbn                             doi  projectID  \\\n",
      "0            NaN  1420-3049  NaN       10.3390/molecules28083419  101040480   \n",
      "1            NaN  0022-2852  NaN       10.1016/j.jms.2023.111824  101040480   \n",
      "2            NaN  0021-9606  NaN               10.1063/5.0213319  101040480   \n",
      "3            NaN  1439-4235  NaN          10.1002/cphc.202400387  101040480   \n",
      "4            NaN  0022-2860  NaN  10.1016/j.molstruc.2024.139971  101040480   \n",
      "\n",
      "  projectAcronym           collection    contentUpdateDate      rcn  \n",
      "0        LACRIDO  Project publication  2025-02-11 11:41:50  1243351  \n",
      "1        LACRIDO  Project publication  2025-02-11 11:01:16  1243327  \n",
      "2        LACRIDO  Project publication  2025-02-11 11:40:00  1243350  \n",
      "3        LACRIDO  Project publication  2025-02-11 11:11:17  1243343  \n",
      "4        LACRIDO  Project publication  2025-02-11 11:04:26  1243340  \n",
      "   projectID               euroSciVocCode  \\\n",
      "0  101159220               /21/33/121/621   \n",
      "1  101159220          /23/49/315/997/1613   \n",
      "2  101093997          /23/49/315/997/1611   \n",
      "3  101126531               /23/49/341/325   \n",
      "4  101126531  /21/33/121/44109686/8132740   \n",
      "\n",
      "                                      euroSciVocPath euroSciVocTitle  \\\n",
      "0  /medical and health sciences/health sciences/i...         malaria   \n",
      "1  /natural sciences/biological sciences/biochemi...        proteins   \n",
      "2  /natural sciences/biological sciences/biochemi...   carbohydrates   \n",
      "3  /natural sciences/biological sciences/microbio...        virology   \n",
      "4  /medical and health sciences/health sciences/i...   coronaviruses   \n",
      "\n",
      "   euroSciVocDescription  \n",
      "0                    NaN  \n",
      "1                    NaN  \n",
      "2                    NaN  \n",
      "3                    NaN  \n",
      "4                    NaN  \n",
      "   projectID     legalBasis                                 title  \\\n",
      "0  101159220    HORIZON.2.1                                Health   \n",
      "1  101096150    HORIZON.3.2        European innovation ecosystems   \n",
      "2  101096150  HORIZON.3.2.3  Joint programmes close to innovators   \n",
      "3  101093997    HORIZON.2.1                                Health   \n",
      "4  101093997  HORIZON.2.1.1     Health throughout the Life Course   \n",
      "\n",
      "  uniqueProgrammePart  \n",
      "0                True  \n",
      "1                True  \n",
      "2                 NaN  \n",
      "3                True  \n",
      "4                 NaN  \n",
      "   projectID projectAcronym  organisationID    vatNumber  \\\n",
      "0  101159220      PvSeroRDT       986872084          NaN   \n",
      "1  101159220      PvSeroRDT       999542806          NaN   \n",
      "2  101159220      PvSeroRDT       889740358          NaN   \n",
      "3  101159220      PvSeroRDT       999912667  GB233756066   \n",
      "4  101159220      PvSeroRDT       999679964          NaN   \n",
      "\n",
      "                                                name  \\\n",
      "0                     Institut Pasteur de Madagascar   \n",
      "1                          INSTITUT PASTEUR DE DAKAR   \n",
      "2                  ARMAUER HANSEN RESEARCH INSTITUTE   \n",
      "3  LONDON SCHOOL OF HYGIENE AND TROPICAL MEDICINE...   \n",
      "4          FOUNDATION FOR INNOVATIVE NEW DIAGNOSTICS   \n",
      "\n",
      "                                   shortName    SME activityType  \\\n",
      "0                                        IPM  False          REC   \n",
      "1                                        NaN  False          REC   \n",
      "2                                        NaN  False          REC   \n",
      "3                                      LSHTM  False          HES   \n",
      "4  FIND, the global alliance for diagnostics  False          OTH   \n",
      "\n",
      "                               street  postCode  ...  \\\n",
      "0         Ambatofotsikely - Avaradoha       101  ...   \n",
      "1                   AVENUE PASTEUR 36     DAKAR  ...   \n",
      "2           JIMMA ROAD ALERT COMPOUND      1005  ...   \n",
      "3                       KEPPEL STREET  WC1E 7HT  ...   \n",
      "4  CAMPUS BIOTECH, CHEMIN DES MINES 9      1202  ...   \n",
      "\n",
      "                                         contactForm    contentUpdateDate  \\\n",
      "0  https://ec.europa.eu/info/funding-tenders/oppo...  2024-12-24 11:18:48   \n",
      "1  https://ec.europa.eu/info/funding-tenders/oppo...  2024-12-24 11:18:48   \n",
      "2  https://ec.europa.eu/info/funding-tenders/oppo...  2024-12-24 11:18:48   \n",
      "3  https://ec.europa.eu/info/funding-tenders/oppo...  2024-12-24 11:18:48   \n",
      "4  https://ec.europa.eu/info/funding-tenders/oppo...  2024-12-24 11:18:48   \n",
      "\n",
      "       rcn order               role ecContribution netEcContribution  \\\n",
      "0  1947090     4  associatedPartner            NaN              0.00   \n",
      "1  1906512     2        participant     1777625.00        1777625.00   \n",
      "2  1975141     3        participant      272174.38         272174.38   \n",
      "3  1906028     6  associatedPartner            NaN              0.00   \n",
      "4  1906308     7  associatedPartner            NaN              0.00   \n",
      "\n",
      "   totalCost  endOfParticipation active  \n",
      "0          0               False    NaN  \n",
      "1    1777625               False    NaN  \n",
      "2  272174,38               False    NaN  \n",
      "3          0               False    NaN  \n",
      "4          0               False    NaN  \n",
      "\n",
      "[5 rows x 25 columns]\n",
      "          id        acronym  status  \\\n",
      "0  101159220      PvSeroRDT  SIGNED   \n",
      "1  101096150       BIOBoost  SIGNED   \n",
      "2  101093997  GlycanTrigger  SIGNED   \n",
      "3  101126531   CHIKVAX_CHIM  SIGNED   \n",
      "4  101113979      The Oater  CLOSED   \n",
      "\n",
      "                                               title   startDate     endDate  \\\n",
      "0  A point-of-care serological rapid diagnostic t...  2025-02-01  2030-01-31   \n",
      "1  Boosting innovation agencies for bioeconomy va...  2023-02-01  2025-01-31   \n",
      "2  GLYCANS AS MASTER TRIGGERS OF HEALTH TO INTEST...  2023-01-01  2028-12-31   \n",
      "3  Late-stage clinical development of Chikungunya...  2023-06-01  2028-11-30   \n",
      "4  The Oater develops a compact machine for hyper...  2023-07-01  2023-12-31   \n",
      "\n",
      "    totalCost ecMaxContribution   legalBasis  \\\n",
      "0  4062396,23        4062396,23  HORIZON.2.1   \n",
      "1           0            500000  HORIZON.3.2   \n",
      "2     6771571           6771571  HORIZON.2.1   \n",
      "3   100000000          70000000  HORIZON.2.1   \n",
      "4           0             75000  HORIZON.3.2   \n",
      "\n",
      "                                      topics ecSignatureDate  \\\n",
      "0  HORIZON-JU-GH-EDCTP3-2023-02-02-two-stage      2024-12-09   \n",
      "1             HORIZON-EIE-2022-CONNECT-01-01      2022-11-25   \n",
      "2           HORIZON-HLTH-2022-STAYHLTH-02-01      2022-12-05   \n",
      "3           HORIZON-HLTH-2022-CEPI-15-01-IBA      2023-06-15   \n",
      "4             HORIZON-EIE-2022-SCALEUP-02-02      2023-06-05   \n",
      "\n",
      "  frameworkProgramme                              masterCall  \\\n",
      "0            HORIZON  HORIZON-JU-GH-EDCTP3-2023-02-two-stage   \n",
      "1            HORIZON             HORIZON-EIE-2022-CONNECT-01   \n",
      "2            HORIZON           HORIZON-HLTH-2022-STAYHLTH-02   \n",
      "3            HORIZON           HORIZON-HLTH-2022-CEPI-15-IBA   \n",
      "4            HORIZON             HORIZON-EIE-2022-SCALEUP-02   \n",
      "\n",
      "                                  subCall   fundingScheme  nature  \\\n",
      "0  HORIZON-JU-GH-EDCTP3-2023-02-two-stage  HORIZON-JU-RIA     NaN   \n",
      "1             HORIZON-EIE-2022-CONNECT-01     HORIZON-CSA     NaN   \n",
      "2           HORIZON-HLTH-2022-STAYHLTH-02     HORIZON-RIA     NaN   \n",
      "3           HORIZON-HLTH-2022-CEPI-15-IBA  HORIZON-COFUND     NaN   \n",
      "4             HORIZON-EIE-2022-SCALEUP-02     HORIZON-CSA     NaN   \n",
      "\n",
      "                                           objective    contentUpdateDate  \\\n",
      "0  Plasmodium vivax is considered the most diffic...  2024-12-24 11:18:48   \n",
      "1  The overall objectives of the BIOBoost project...  2022-12-01 14:09:06   \n",
      "2  Chronic inflammation underlies several disease...  2022-12-11 19:02:29   \n",
      "3  A Framework Partnership Agreement (FPA) betwee...  2023-09-19 19:01:01   \n",
      "4  The Oater is a female-founded food tech start-...  2023-07-11 15:45:49   \n",
      "\n",
      "      rcn           grantDoi  \n",
      "0  268210  10.3030/101159220  \n",
      "1  243343  10.3030/101096150  \n",
      "2  243439  10.3030/101093997  \n",
      "3  256925  10.3030/101126531  \n",
      "4  253030  10.3030/101113979  \n",
      "   projectID                                      topic  \\\n",
      "0  101159220  HORIZON-JU-GH-EDCTP3-2023-02-02-two-stage   \n",
      "1  101096150             HORIZON-EIE-2022-CONNECT-01-01   \n",
      "2  101093997           HORIZON-HLTH-2022-STAYHLTH-02-01   \n",
      "3  101126531           HORIZON-HLTH-2022-CEPI-15-01-IBA   \n",
      "4  101113979             HORIZON-EIE-2022-SCALEUP-02-02   \n",
      "\n",
      "                                               title  \n",
      "0  Advancing point-of-care diagnostics to the market  \n",
      "1  Towards more inclusive networks and initiative...  \n",
      "2  Personalised blueprint of chronic inflammation...  \n",
      "3  CEPI 4 - Contribution to the Coalition for Epi...  \n",
      "4                                       Women TechEU  \n",
      "   projectID                                            physUrl  \\\n",
      "0  101096150  https://ec.europa.eu/research/participants/doc...   \n",
      "1  101096150  https://ec.europa.eu/research/participants/doc...   \n",
      "2  101096150  https://ec.europa.eu/research/participants/doc...   \n",
      "3  101096150  https://ec.europa.eu/research/participants/doc...   \n",
      "4  101096150  https://ec.europa.eu/research/participants/doc...   \n",
      "\n",
      "                                 id availableLanguages  status  archivedDate  \\\n",
      "0  8c752a748e9138458797f2812762ac38                 en     NaN           NaN   \n",
      "1  72690dd7bb355fdca270488e46dff1cf                 en     NaN           NaN   \n",
      "2  e48d19a29dd1f9417917f29c657ed922                 en     NaN           NaN   \n",
      "3  63324d042781ae76e788722be75f3b8a                 en     NaN           NaN   \n",
      "4  8f80a9b0040e38ad9ac7c546c280cbd5                 en     NaN           NaN   \n",
      "\n",
      "                 type source represents  \n",
      "0  projectDeliverable  corda    project  \n",
      "1  projectDeliverable  corda    project  \n",
      "2  projectDeliverable  corda    project  \n",
      "3  projectDeliverable  corda    project  \n",
      "4  projectDeliverable  corda    project  \n",
      "                    id                                              title  \\\n",
      "0  101066069_PSHORIZON  Periodic Reporting for period 1 - ERASMUS (Ear...   \n",
      "1  101073231_PSHORIZON  Periodic Reporting for period 1 - OncoProTools...   \n",
      "2  101068156_PSHORIZON  Periodic Reporting for period 1 - BLISS (Beta-...   \n",
      "3  101072180_PSHORIZON  Periodic Reporting for period 1 - Green2Ice (W...   \n",
      "4  101063407_PSHORIZON  Periodic Reporting for period 1 - GHost (His E...   \n",
      "\n",
      "   projectID projectAcronym  \\\n",
      "0  101066069        ERASMUS   \n",
      "1  101073231   OncoProTools   \n",
      "2  101068156          BLISS   \n",
      "3  101072180      Green2Ice   \n",
      "4  101063407          GHost   \n",
      "\n",
      "                                          attachment    contentUpdateDate  \\\n",
      "0                                                NaN  2025-03-17 10:38:00   \n",
      "1  /docs/results/horizon/101073/101073231_PS/2024...  2025-03-18 12:31:34   \n",
      "2  /docs/results/horizon/101068/101068156_PS/pict...  2025-03-05 11:47:45   \n",
      "3  /docs/results/horizon/101072/101072180_PS/2023...  2025-02-14 10:36:27   \n",
      "4  /docs/results/horizon/101063/101063407_PS/pa-1...  2025-02-26 17:32:14   \n",
      "\n",
      "       rcn  \n",
      "0  1267558  \n",
      "1  1270628  \n",
      "2  1260626  \n",
      "3  1252991  \n",
      "4  1257475  \n"
     ]
    }
   ],
   "source": [
    "# print fist few rows to see if loading was done correctly \n",
    "print(df_projectDeliverables.head()) \n",
    "print(df_projectPublications.head())\n",
    "print(df_euroSciVoc.head()) \n",
    "print(df_legalBasis.head())\n",
    "print(df_organization.head())\n",
    "print(df_project.head())\n",
    "print(df_topics.head())\n",
    "print(df_webLink.head())\n",
    "print(df_reportSummaries.head())"
   ]
  },
  {
   "cell_type": "markdown",
   "id": "41086797-b222-4841-87bb-76174dc45122",
   "metadata": {},
   "source": [
    "STEP 2: MERGING DATAFRAMES"
   ]
  },
  {
   "cell_type": "code",
   "execution_count": 17,
   "id": "ff6817df-5177-4a44-90cf-7758175f6963",
   "metadata": {},
   "outputs": [
    {
     "name": "stdout",
     "output_type": "stream",
     "text": [
      "Index(['id', 'title', 'deliverableType', 'description', 'projectID',\n",
      "       'projectAcronym', 'url', 'collection', 'contentUpdateDate', 'rcn'],\n",
      "      dtype='object')\n",
      "Index(['id', 'title', 'isPublishedAs', 'authors', 'journalTitle',\n",
      "       'journalNumber', 'publishedYear', 'publishedPages', 'issn', 'isbn',\n",
      "       'doi', 'projectID', 'projectAcronym', 'collection', 'contentUpdateDate',\n",
      "       'rcn'],\n",
      "      dtype='object')\n",
      "Index(['projectID', 'euroSciVocCode', 'euroSciVocPath', 'euroSciVocTitle',\n",
      "       'euroSciVocDescription'],\n",
      "      dtype='object')\n",
      "Index(['projectID', 'legalBasis', 'title', 'uniqueProgrammePart'], dtype='object')\n",
      "Index(['projectID', 'projectAcronym', 'organisationID', 'vatNumber', 'name',\n",
      "       'shortName', 'SME', 'activityType', 'street', 'postCode', 'city',\n",
      "       'country', 'nutsCode', 'geolocation', 'organizationURL', 'contactForm',\n",
      "       'contentUpdateDate', 'rcn', 'order', 'role', 'ecContribution',\n",
      "       'netEcContribution', 'totalCost', 'endOfParticipation', 'active'],\n",
      "      dtype='object')\n",
      "Index(['id', 'acronym', 'status', 'title', 'startDate', 'endDate', 'totalCost',\n",
      "       'ecMaxContribution', 'legalBasis', 'topics', 'ecSignatureDate',\n",
      "       'frameworkProgramme', 'masterCall', 'subCall', 'fundingScheme',\n",
      "       'nature', 'objective', 'contentUpdateDate', 'rcn', 'grantDoi'],\n",
      "      dtype='object')\n",
      "Index(['projectID', 'topic', 'title'], dtype='object')\n",
      "Index(['projectID', 'physUrl', 'id', 'availableLanguages', 'status',\n",
      "       'archivedDate', 'type', 'source', 'represents'],\n",
      "      dtype='object')\n",
      "Index(['id', 'title', 'projectID', 'projectAcronym', 'attachment',\n",
      "       'contentUpdateDate', 'rcn'],\n",
      "      dtype='object')\n"
     ]
    }
   ],
   "source": [
    "# Display the columns of each dataframe to check for a variable to merge on \n",
    "print(df_projectDeliverables.columns) \n",
    "print(df_projectPublications.columns)\n",
    "print(df_euroSciVoc.columns) \n",
    "print(df_legalBasis.columns)\n",
    "print(df_organization.columns)\n",
    "print(df_project.columns) # does not have a projectID, merge on id?\n",
    "print(df_topics.columns)\n",
    "print(df_webLink.columns)\n",
    "print(df_reportSummaries.columns)"
   ]
  },
  {
   "cell_type": "code",
   "execution_count": 35,
   "id": "9d06b9e7-66a5-41fe-a45d-2a888a226a9f",
   "metadata": {},
   "outputs": [
    {
     "data": {
      "text/plain": [
       "0    101066069\n",
       "1    101073231\n",
       "2    101068156\n",
       "3    101072180\n",
       "4    101063407\n",
       "Name: projectID, dtype: int64"
      ]
     },
     "execution_count": 35,
     "metadata": {},
     "output_type": "execute_result"
    }
   ],
   "source": [
    "# print potential variables to merge on\n",
    "df_project['id'].head()\n",
    "df_projectDeliverables['projectID'].head()\n",
    "df_projectPublications['projectID'].head()\n",
    "df_euroSciVoc['projectID'].head()\n",
    "df_legalBasis['projectID'].head()\n",
    "df_organization['projectID'].head()\n",
    "df_topics['projectID'].head()\n",
    "df_webLink['projectID'].head()\n",
    "df_reportSummaries['projectID'].head()"
   ]
  },
  {
   "cell_type": "code",
   "execution_count": 53,
   "id": "67c8728e-24a9-47df-85b8-140a3489ea94",
   "metadata": {},
   "outputs": [],
   "source": [
    "# Rename id in df_project to facilitate merging\n",
    "df_project_copy = df_project.copy()\n",
    "df_project_copy.rename(columns={'id': 'projectID'}, inplace=True)\n",
    "df_project_copy.head()"
   ]
  },
  {
   "cell_type": "code",
   "execution_count": 59,
   "id": "8d5e0a54-dd05-4bcc-96be-d375803d82d0",
   "metadata": {},
   "outputs": [],
   "source": [
    "# Merging dataframes \n",
    "dataframes = [\n",
    "    df_projectDeliverables,\n",
    "    df_projectPublications,\n",
    "    df_euroSciVoc,\n",
    "    df_legalBasis,\n",
    "    df_organization,\n",
    "    df_topics,\n",
    "    df_webLink,\n",
    "    df_reportSummaries\n",
    "]\n",
    "\n",
    "for df in dataframes: \n",
    "    df_merged = df_project_copy.merge(df, on='projectID', how='left')"
   ]
  },
  {
   "cell_type": "code",
   "execution_count": 65,
   "id": "e72edba0-fa48-4741-8901-2ca36a5e9b05",
   "metadata": {},
   "outputs": [
    {
     "name": "stdout",
     "output_type": "stream",
     "text": [
      "<class 'pandas.core.frame.DataFrame'>\n",
      "RangeIndex: 15863 entries, 0 to 15862\n",
      "Data columns (total 26 columns):\n",
      " #   Column               Non-Null Count  Dtype  \n",
      "---  ------               --------------  -----  \n",
      " 0   projectID            15863 non-null  int64  \n",
      " 1   acronym              15863 non-null  object \n",
      " 2   status               15863 non-null  object \n",
      " 3   title_x              15863 non-null  object \n",
      " 4   startDate            15863 non-null  object \n",
      " 5   endDate              15863 non-null  object \n",
      " 6   totalCost            15863 non-null  object \n",
      " 7   ecMaxContribution    15863 non-null  object \n",
      " 8   legalBasis           15863 non-null  object \n",
      " 9   topics               15863 non-null  object \n",
      " 10  ecSignatureDate      15862 non-null  object \n",
      " 11  frameworkProgramme   15863 non-null  object \n",
      " 12  masterCall           15863 non-null  object \n",
      " 13  subCall              15863 non-null  object \n",
      " 14  fundingScheme        15863 non-null  object \n",
      " 15  nature               0 non-null      float64\n",
      " 16  objective            15863 non-null  object \n",
      " 17  contentUpdateDate_x  15863 non-null  object \n",
      " 18  rcn_x                15863 non-null  int64  \n",
      " 19  grantDoi             15802 non-null  object \n",
      " 20  id                   3681 non-null   object \n",
      " 21  title_y              3681 non-null   object \n",
      " 22  projectAcronym       3681 non-null   object \n",
      " 23  attachment           1820 non-null   object \n",
      " 24  contentUpdateDate_y  3681 non-null   object \n",
      " 25  rcn_y                3681 non-null   float64\n",
      "dtypes: float64(2), int64(2), object(22)\n",
      "memory usage: 3.1+ MB\n"
     ]
    },
    {
     "data": {
      "text/plain": [
       "Index(['projectID', 'acronym', 'status', 'title_x', 'startDate', 'endDate',\n",
       "       'totalCost', 'ecMaxContribution', 'legalBasis', 'topics',\n",
       "       'ecSignatureDate', 'frameworkProgramme', 'masterCall', 'subCall',\n",
       "       'fundingScheme', 'nature', 'objective', 'contentUpdateDate_x', 'rcn_x',\n",
       "       'grantDoi', 'id', 'title_y', 'projectAcronym', 'attachment',\n",
       "       'contentUpdateDate_y', 'rcn_y'],\n",
       "      dtype='object')"
      ]
     },
     "execution_count": 65,
     "metadata": {},
     "output_type": "execute_result"
    }
   ],
   "source": [
    "# Check if merging is done well\n",
    "df_merged.info()\n",
    "df_merged.head()\n",
    "df_merged.columns # double columns such as title, contentUpdateDate, rcn and acronymn"
   ]
  },
  {
   "cell_type": "code",
   "execution_count": 63,
   "id": "506087a1-daed-48f0-bf08-28d99dc116e5",
   "metadata": {},
   "outputs": [
    {
     "data": {
      "text/plain": [
       "True"
      ]
     },
     "execution_count": 63,
     "metadata": {},
     "output_type": "execute_result"
    }
   ],
   "source": [
    "# check to see if the projectID is unique - the case\n",
    "df_merged['projectID'].is_unique #TRUE"
   ]
  },
  {
   "cell_type": "markdown",
   "id": "b734932f-7a1d-4583-b4ce-c10664c809a3",
   "metadata": {},
   "source": [
    "STEP 3: INVESTIGATE DUPLICATE COLULMNS"
   ]
  },
  {
   "cell_type": "code",
   "execution_count": 77,
   "id": "4e9b1bb4-6dcb-4d32-8a0a-fa4d89b1873f",
   "metadata": {},
   "outputs": [
    {
     "data": {
      "text/plain": [
       "Index(['title_x', 'contentUpdateDate_x', 'rcn_x', 'title_y',\n",
       "       'contentUpdateDate_y', 'rcn_y'],\n",
       "      dtype='object')"
      ]
     },
     "execution_count": 77,
     "metadata": {},
     "output_type": "execute_result"
    }
   ],
   "source": [
    "# Check columns with the same name\n",
    "df_merged.columns[df_merged.columns.str.contains(r'_x$|_y$|\\.1$')]"
   ]
  },
  {
   "cell_type": "markdown",
   "id": "7064783f-35e0-42cd-9946-0f235571da7d",
   "metadata": {},
   "source": [
    "To check columns title_x and title_y"
   ]
  },
  {
   "cell_type": "code",
   "execution_count": 111,
   "id": "de5f1be6-c3fb-4fa9-8854-b1fe1886586b",
   "metadata": {},
   "outputs": [
    {
     "data": {
      "text/plain": [
       "0"
      ]
     },
     "execution_count": 111,
     "metadata": {},
     "output_type": "execute_result"
    }
   ],
   "source": [
    "# to see how many titles are the same between the two columns\n",
    "(df_merged['title_x'] == df_merged['title_y']).value_counts()"
   ]
  },
  {
   "cell_type": "code",
   "execution_count": 89,
   "id": "02f8fe3e-094a-47ce-894f-1d70fecd74c2",
   "metadata": {},
   "outputs": [
    {
     "data": {
      "text/html": [
       "<div>\n",
       "<style scoped>\n",
       "    .dataframe tbody tr th:only-of-type {\n",
       "        vertical-align: middle;\n",
       "    }\n",
       "\n",
       "    .dataframe tbody tr th {\n",
       "        vertical-align: top;\n",
       "    }\n",
       "\n",
       "    .dataframe thead th {\n",
       "        text-align: right;\n",
       "    }\n",
       "</style>\n",
       "<table border=\"1\" class=\"dataframe\">\n",
       "  <thead>\n",
       "    <tr style=\"text-align: right;\">\n",
       "      <th></th>\n",
       "      <th>title_x</th>\n",
       "      <th>title_y</th>\n",
       "    </tr>\n",
       "  </thead>\n",
       "  <tbody>\n",
       "    <tr>\n",
       "      <th>0</th>\n",
       "      <td>A point-of-care serological rapid diagnostic t...</td>\n",
       "      <td>NaN</td>\n",
       "    </tr>\n",
       "    <tr>\n",
       "      <th>1</th>\n",
       "      <td>Boosting innovation agencies for bioeconomy va...</td>\n",
       "      <td>Periodic Reporting for period 1 - BIOBoost (Bo...</td>\n",
       "    </tr>\n",
       "    <tr>\n",
       "      <th>2</th>\n",
       "      <td>GLYCANS AS MASTER TRIGGERS OF HEALTH TO INTEST...</td>\n",
       "      <td>Periodic Reporting for period 1 - GlycanTrigge...</td>\n",
       "    </tr>\n",
       "    <tr>\n",
       "      <th>3</th>\n",
       "      <td>Late-stage clinical development of Chikungunya...</td>\n",
       "      <td>NaN</td>\n",
       "    </tr>\n",
       "    <tr>\n",
       "      <th>4</th>\n",
       "      <td>The Oater develops a compact machine for hyper...</td>\n",
       "      <td>Periodic Reporting for period 1 - The Oater (T...</td>\n",
       "    </tr>\n",
       "    <tr>\n",
       "      <th>...</th>\n",
       "      <td>...</td>\n",
       "      <td>...</td>\n",
       "    </tr>\n",
       "    <tr>\n",
       "      <th>15858</th>\n",
       "      <td>EUCYS Leiden2022</td>\n",
       "      <td>Periodic Reporting for period 1 - EUCYS2022 (E...</td>\n",
       "    </tr>\n",
       "    <tr>\n",
       "      <th>15859</th>\n",
       "      <td>Support to Retirement Savings Vehicle for Euro...</td>\n",
       "      <td>NaN</td>\n",
       "    </tr>\n",
       "    <tr>\n",
       "      <th>15860</th>\n",
       "      <td>European City of Science and EuroScience Open ...</td>\n",
       "      <td>Periodic Reporting for period 1 - Leiden2022-E...</td>\n",
       "    </tr>\n",
       "    <tr>\n",
       "      <th>15861</th>\n",
       "      <td>European Union Contest for Young Scientists (E...</td>\n",
       "      <td>NaN</td>\n",
       "    </tr>\n",
       "    <tr>\n",
       "      <th>15862</th>\n",
       "      <td>Citizen-Oriented Valorisation for Advancement,...</td>\n",
       "      <td>NaN</td>\n",
       "    </tr>\n",
       "  </tbody>\n",
       "</table>\n",
       "<p>15863 rows × 2 columns</p>\n",
       "</div>"
      ],
      "text/plain": [
       "                                                 title_x  \\\n",
       "0      A point-of-care serological rapid diagnostic t...   \n",
       "1      Boosting innovation agencies for bioeconomy va...   \n",
       "2      GLYCANS AS MASTER TRIGGERS OF HEALTH TO INTEST...   \n",
       "3      Late-stage clinical development of Chikungunya...   \n",
       "4      The Oater develops a compact machine for hyper...   \n",
       "...                                                  ...   \n",
       "15858                                   EUCYS Leiden2022   \n",
       "15859  Support to Retirement Savings Vehicle for Euro...   \n",
       "15860  European City of Science and EuroScience Open ...   \n",
       "15861  European Union Contest for Young Scientists (E...   \n",
       "15862  Citizen-Oriented Valorisation for Advancement,...   \n",
       "\n",
       "                                                 title_y  \n",
       "0                                                    NaN  \n",
       "1      Periodic Reporting for period 1 - BIOBoost (Bo...  \n",
       "2      Periodic Reporting for period 1 - GlycanTrigge...  \n",
       "3                                                    NaN  \n",
       "4      Periodic Reporting for period 1 - The Oater (T...  \n",
       "...                                                  ...  \n",
       "15858  Periodic Reporting for period 1 - EUCYS2022 (E...  \n",
       "15859                                                NaN  \n",
       "15860  Periodic Reporting for period 1 - Leiden2022-E...  \n",
       "15861                                                NaN  \n",
       "15862                                                NaN  \n",
       "\n",
       "[15863 rows x 2 columns]"
      ]
     },
     "execution_count": 89,
     "metadata": {},
     "output_type": "execute_result"
    }
   ],
   "source": [
    "# identify rows where titles are not equal between the two columns\n",
    "df_merged[df_merged['title_x'] != df_merged['title_y']][['title_x', 'title_y']]"
   ]
  },
  {
   "cell_type": "code",
   "execution_count": 105,
   "id": "5d2d451c-cbc9-40e9-b6db-69eeba8e1ed4",
   "metadata": {},
   "outputs": [
    {
     "data": {
      "text/plain": [
       "0"
      ]
     },
     "execution_count": 105,
     "metadata": {},
     "output_type": "execute_result"
    }
   ],
   "source": [
    "# print to see the 20 projects (to see if titles overlap, ...)\n",
    "df_merged[df_merged['title_x'] != df_merged['title_y']][['projectID', 'title_x', 'title_y']].sample(20)"
   ]
  },
  {
   "cell_type": "code",
   "execution_count": 113,
   "id": "8ec3d865-36a2-4b07-8e66-c5e73cc6462a",
   "metadata": {},
   "outputs": [
    {
     "data": {
      "text/plain": [
       "0"
      ]
     },
     "execution_count": 113,
     "metadata": {},
     "output_type": "execute_result"
    }
   ],
   "source": [
    "# check if there are missings for both title pages \n",
    "(df_merged['title_x'].isna() & df_merged['title_y'].isna()).sum() #based on the explorative analysis, title x is kept  "
   ]
  },
  {
   "cell_type": "code",
   "execution_count": 115,
   "id": "d30da435-a2d0-4fe0-a950-e7d4cbce9e45",
   "metadata": {},
   "outputs": [
    {
     "data": {
      "text/plain": [
       "0"
      ]
     },
     "execution_count": 115,
     "metadata": {},
     "output_type": "execute_result"
    }
   ],
   "source": [
    "# check if title_x has any missings (0, so title_y can be left out, title_y has 12182 missing) \n",
    "df_merged['title_x'].isna().sum()"
   ]
  },
  {
   "cell_type": "code",
   "execution_count": 138,
   "id": "3aea37c0-ca36-4b06-b60b-66ea4eae98e4",
   "metadata": {},
   "outputs": [
    {
     "data": {
      "text/plain": [
       "12182"
      ]
     },
     "execution_count": 138,
     "metadata": {},
     "output_type": "execute_result"
    }
   ],
   "source": [
    "df_merged['title_y'].isna().sum()"
   ]
  },
  {
   "cell_type": "markdown",
   "id": "649ccea2-562c-4680-a3f2-7a1e2153dbf5",
   "metadata": {},
   "source": [
    "To check to columns rcn_x and rcn_y"
   ]
  },
  {
   "cell_type": "code",
   "execution_count": 122,
   "id": "b195456a-8c0a-4ccb-bd25-81e636b9453d",
   "metadata": {},
   "outputs": [
    {
     "data": {
      "text/plain": [
       "False    15863\n",
       "Name: count, dtype: int64"
      ]
     },
     "execution_count": 122,
     "metadata": {},
     "output_type": "execute_result"
    }
   ],
   "source": [
    "# to see how many crn's are the same between the two columns\n",
    "(df_merged['rcn_x'] == df_merged['rcn_y']).value_counts()"
   ]
  },
  {
   "cell_type": "code",
   "execution_count": 126,
   "id": "aeeb397a-364f-4df3-80ce-cfd71e9505cf",
   "metadata": {},
   "outputs": [
    {
     "data": {
      "text/html": [
       "<div>\n",
       "<style scoped>\n",
       "    .dataframe tbody tr th:only-of-type {\n",
       "        vertical-align: middle;\n",
       "    }\n",
       "\n",
       "    .dataframe tbody tr th {\n",
       "        vertical-align: top;\n",
       "    }\n",
       "\n",
       "    .dataframe thead th {\n",
       "        text-align: right;\n",
       "    }\n",
       "</style>\n",
       "<table border=\"1\" class=\"dataframe\">\n",
       "  <thead>\n",
       "    <tr style=\"text-align: right;\">\n",
       "      <th></th>\n",
       "      <th>rcn_x</th>\n",
       "      <th>rcn_y</th>\n",
       "    </tr>\n",
       "  </thead>\n",
       "  <tbody>\n",
       "    <tr>\n",
       "      <th>0</th>\n",
       "      <td>268210</td>\n",
       "      <td>NaN</td>\n",
       "    </tr>\n",
       "    <tr>\n",
       "      <th>1</th>\n",
       "      <td>243343</td>\n",
       "      <td>1228984.0</td>\n",
       "    </tr>\n",
       "    <tr>\n",
       "      <th>2</th>\n",
       "      <td>243439</td>\n",
       "      <td>1176202.0</td>\n",
       "    </tr>\n",
       "    <tr>\n",
       "      <th>3</th>\n",
       "      <td>256925</td>\n",
       "      <td>NaN</td>\n",
       "    </tr>\n",
       "    <tr>\n",
       "      <th>4</th>\n",
       "      <td>253030</td>\n",
       "      <td>1090108.0</td>\n",
       "    </tr>\n",
       "    <tr>\n",
       "      <th>...</th>\n",
       "      <td>...</td>\n",
       "      <td>...</td>\n",
       "    </tr>\n",
       "    <tr>\n",
       "      <th>15858</th>\n",
       "      <td>241771</td>\n",
       "      <td>1081188.0</td>\n",
       "    </tr>\n",
       "    <tr>\n",
       "      <th>15859</th>\n",
       "      <td>257324</td>\n",
       "      <td>NaN</td>\n",
       "    </tr>\n",
       "    <tr>\n",
       "      <th>15860</th>\n",
       "      <td>241770</td>\n",
       "      <td>1081185.0</td>\n",
       "    </tr>\n",
       "    <tr>\n",
       "      <th>15861</th>\n",
       "      <td>262788</td>\n",
       "      <td>NaN</td>\n",
       "    </tr>\n",
       "    <tr>\n",
       "      <th>15862</th>\n",
       "      <td>257695</td>\n",
       "      <td>NaN</td>\n",
       "    </tr>\n",
       "  </tbody>\n",
       "</table>\n",
       "<p>15863 rows × 2 columns</p>\n",
       "</div>"
      ],
      "text/plain": [
       "        rcn_x      rcn_y\n",
       "0      268210        NaN\n",
       "1      243343  1228984.0\n",
       "2      243439  1176202.0\n",
       "3      256925        NaN\n",
       "4      253030  1090108.0\n",
       "...       ...        ...\n",
       "15858  241771  1081188.0\n",
       "15859  257324        NaN\n",
       "15860  241770  1081185.0\n",
       "15861  262788        NaN\n",
       "15862  257695        NaN\n",
       "\n",
       "[15863 rows x 2 columns]"
      ]
     },
     "execution_count": 126,
     "metadata": {},
     "output_type": "execute_result"
    }
   ],
   "source": [
    "# identify rows where rcn's are not equal between the two columns\n",
    "df_merged[df_merged['rcn_x'] != df_merged['rcn_y']][['rcn_x', 'rcn_y']]"
   ]
  },
  {
   "cell_type": "code",
   "execution_count": 130,
   "id": "2e4773fb-4c7f-4ebf-aa70-3ae4ed4c110a",
   "metadata": {},
   "outputs": [
    {
     "data": {
      "text/html": [
       "<div>\n",
       "<style scoped>\n",
       "    .dataframe tbody tr th:only-of-type {\n",
       "        vertical-align: middle;\n",
       "    }\n",
       "\n",
       "    .dataframe tbody tr th {\n",
       "        vertical-align: top;\n",
       "    }\n",
       "\n",
       "    .dataframe thead th {\n",
       "        text-align: right;\n",
       "    }\n",
       "</style>\n",
       "<table border=\"1\" class=\"dataframe\">\n",
       "  <thead>\n",
       "    <tr style=\"text-align: right;\">\n",
       "      <th></th>\n",
       "      <th>projectID</th>\n",
       "      <th>rcn_x</th>\n",
       "      <th>rcn_y</th>\n",
       "    </tr>\n",
       "  </thead>\n",
       "  <tbody>\n",
       "    <tr>\n",
       "      <th>14585</th>\n",
       "      <td>101135948</td>\n",
       "      <td>258519</td>\n",
       "      <td>NaN</td>\n",
       "    </tr>\n",
       "    <tr>\n",
       "      <th>5386</th>\n",
       "      <td>101135547</td>\n",
       "      <td>258361</td>\n",
       "      <td>NaN</td>\n",
       "    </tr>\n",
       "    <tr>\n",
       "      <th>11915</th>\n",
       "      <td>101040472</td>\n",
       "      <td>238163</td>\n",
       "      <td>NaN</td>\n",
       "    </tr>\n",
       "    <tr>\n",
       "      <th>15097</th>\n",
       "      <td>101072377</td>\n",
       "      <td>241142</td>\n",
       "      <td>NaN</td>\n",
       "    </tr>\n",
       "    <tr>\n",
       "      <th>13578</th>\n",
       "      <td>101098722</td>\n",
       "      <td>243891</td>\n",
       "      <td>1267572.0</td>\n",
       "    </tr>\n",
       "    <tr>\n",
       "      <th>3161</th>\n",
       "      <td>101079184</td>\n",
       "      <td>240831</td>\n",
       "      <td>NaN</td>\n",
       "    </tr>\n",
       "    <tr>\n",
       "      <th>2968</th>\n",
       "      <td>101148969</td>\n",
       "      <td>264572</td>\n",
       "      <td>NaN</td>\n",
       "    </tr>\n",
       "    <tr>\n",
       "      <th>12138</th>\n",
       "      <td>101060504</td>\n",
       "      <td>241203</td>\n",
       "      <td>1124944.0</td>\n",
       "    </tr>\n",
       "    <tr>\n",
       "      <th>863</th>\n",
       "      <td>101199180</td>\n",
       "      <td>269202</td>\n",
       "      <td>NaN</td>\n",
       "    </tr>\n",
       "    <tr>\n",
       "      <th>2498</th>\n",
       "      <td>101105332</td>\n",
       "      <td>250560</td>\n",
       "      <td>NaN</td>\n",
       "    </tr>\n",
       "    <tr>\n",
       "      <th>541</th>\n",
       "      <td>101149215</td>\n",
       "      <td>263029</td>\n",
       "      <td>NaN</td>\n",
       "    </tr>\n",
       "    <tr>\n",
       "      <th>10636</th>\n",
       "      <td>101142840</td>\n",
       "      <td>267823</td>\n",
       "      <td>NaN</td>\n",
       "    </tr>\n",
       "    <tr>\n",
       "      <th>4029</th>\n",
       "      <td>101058393</td>\n",
       "      <td>241787</td>\n",
       "      <td>956819.0</td>\n",
       "    </tr>\n",
       "    <tr>\n",
       "      <th>9842</th>\n",
       "      <td>101162204</td>\n",
       "      <td>266017</td>\n",
       "      <td>NaN</td>\n",
       "    </tr>\n",
       "    <tr>\n",
       "      <th>12385</th>\n",
       "      <td>101109035</td>\n",
       "      <td>251254</td>\n",
       "      <td>NaN</td>\n",
       "    </tr>\n",
       "    <tr>\n",
       "      <th>9097</th>\n",
       "      <td>101141682</td>\n",
       "      <td>264927</td>\n",
       "      <td>NaN</td>\n",
       "    </tr>\n",
       "    <tr>\n",
       "      <th>15016</th>\n",
       "      <td>101132581</td>\n",
       "      <td>257871</td>\n",
       "      <td>NaN</td>\n",
       "    </tr>\n",
       "    <tr>\n",
       "      <th>11958</th>\n",
       "      <td>101040996</td>\n",
       "      <td>240487</td>\n",
       "      <td>NaN</td>\n",
       "    </tr>\n",
       "    <tr>\n",
       "      <th>4217</th>\n",
       "      <td>101121342</td>\n",
       "      <td>255463</td>\n",
       "      <td>NaN</td>\n",
       "    </tr>\n",
       "    <tr>\n",
       "      <th>12087</th>\n",
       "      <td>101129655</td>\n",
       "      <td>257665</td>\n",
       "      <td>NaN</td>\n",
       "    </tr>\n",
       "  </tbody>\n",
       "</table>\n",
       "</div>"
      ],
      "text/plain": [
       "       projectID   rcn_x      rcn_y\n",
       "14585  101135948  258519        NaN\n",
       "5386   101135547  258361        NaN\n",
       "11915  101040472  238163        NaN\n",
       "15097  101072377  241142        NaN\n",
       "13578  101098722  243891  1267572.0\n",
       "3161   101079184  240831        NaN\n",
       "2968   101148969  264572        NaN\n",
       "12138  101060504  241203  1124944.0\n",
       "863    101199180  269202        NaN\n",
       "2498   101105332  250560        NaN\n",
       "541    101149215  263029        NaN\n",
       "10636  101142840  267823        NaN\n",
       "4029   101058393  241787   956819.0\n",
       "9842   101162204  266017        NaN\n",
       "12385  101109035  251254        NaN\n",
       "9097   101141682  264927        NaN\n",
       "15016  101132581  257871        NaN\n",
       "11958  101040996  240487        NaN\n",
       "4217   101121342  255463        NaN\n",
       "12087  101129655  257665        NaN"
      ]
     },
     "execution_count": 130,
     "metadata": {},
     "output_type": "execute_result"
    }
   ],
   "source": [
    "# print to see the 20 projects (to see if titles overlap, ...)\n",
    "df_merged[df_merged['rcn_x'] != df_merged['title_y']][['projectID', 'rcn_x', 'rcn_y']].sample(20)"
   ]
  },
  {
   "cell_type": "code",
   "execution_count": 132,
   "id": "9a8fe0f8-6c31-45be-8166-9aceb1dc061d",
   "metadata": {},
   "outputs": [
    {
     "data": {
      "text/plain": [
       "0"
      ]
     },
     "execution_count": 132,
     "metadata": {},
     "output_type": "execute_result"
    }
   ],
   "source": [
    "# check if there are missings for both rcn columns pages \n",
    "(df_merged['rcn_x'].isna() & df_merged['rcn_y'].isna()).sum() #based on the explorative analysis, rcn_x is kept"
   ]
  },
  {
   "cell_type": "code",
   "execution_count": 134,
   "id": "d951665a-b28a-45f9-8882-e68ffc94e2a7",
   "metadata": {},
   "outputs": [
    {
     "data": {
      "text/plain": [
       "0"
      ]
     },
     "execution_count": 134,
     "metadata": {},
     "output_type": "execute_result"
    }
   ],
   "source": [
    "# check if rcn_x has any missings (0, so rcn_y can be left out - rcn_y has 12182 missings) \n",
    "df_merged['rcn_x'].isna().sum()"
   ]
  },
  {
   "cell_type": "code",
   "execution_count": 136,
   "id": "38a6f71f-4298-44ca-aa80-254c13a26663",
   "metadata": {},
   "outputs": [
    {
     "data": {
      "text/plain": [
       "12182"
      ]
     },
     "execution_count": 136,
     "metadata": {},
     "output_type": "execute_result"
    }
   ],
   "source": [
    "df_merged['rcn_y'].isna().sum()"
   ]
  },
  {
   "cell_type": "markdown",
   "id": "bb177339-abcf-4ffd-b26c-a36f1f78362e",
   "metadata": {},
   "source": [
    "To check contentUpdateDate_x and contentUpdateDate_y"
   ]
  },
  {
   "cell_type": "code",
   "execution_count": 146,
   "id": "7832ab22-236f-44f9-9598-a0ae823d2bda",
   "metadata": {},
   "outputs": [
    {
     "data": {
      "text/plain": [
       "False    15863\n",
       "Name: count, dtype: int64"
      ]
     },
     "execution_count": 146,
     "metadata": {},
     "output_type": "execute_result"
    }
   ],
   "source": [
    "# to see how many contentUpdateDates are the same between the two columns\n",
    "(df_merged['contentUpdateDate_x'] == df_merged['contentUpdateDate_y']).value_counts()"
   ]
  },
  {
   "cell_type": "code",
   "execution_count": 148,
   "id": "0b833171-4b02-4452-bad9-0b801e3fb310",
   "metadata": {},
   "outputs": [
    {
     "data": {
      "text/html": [
       "<div>\n",
       "<style scoped>\n",
       "    .dataframe tbody tr th:only-of-type {\n",
       "        vertical-align: middle;\n",
       "    }\n",
       "\n",
       "    .dataframe tbody tr th {\n",
       "        vertical-align: top;\n",
       "    }\n",
       "\n",
       "    .dataframe thead th {\n",
       "        text-align: right;\n",
       "    }\n",
       "</style>\n",
       "<table border=\"1\" class=\"dataframe\">\n",
       "  <thead>\n",
       "    <tr style=\"text-align: right;\">\n",
       "      <th></th>\n",
       "      <th>contentUpdateDate_x</th>\n",
       "      <th>contentUpdateDate_y</th>\n",
       "    </tr>\n",
       "  </thead>\n",
       "  <tbody>\n",
       "    <tr>\n",
       "      <th>0</th>\n",
       "      <td>2024-12-24 11:18:48</td>\n",
       "      <td>NaN</td>\n",
       "    </tr>\n",
       "    <tr>\n",
       "      <th>1</th>\n",
       "      <td>2022-12-01 14:09:06</td>\n",
       "      <td>2024-12-12 14:10:43</td>\n",
       "    </tr>\n",
       "    <tr>\n",
       "      <th>2</th>\n",
       "      <td>2022-12-11 19:02:29</td>\n",
       "      <td>2024-10-22 16:23:36</td>\n",
       "    </tr>\n",
       "    <tr>\n",
       "      <th>3</th>\n",
       "      <td>2023-09-19 19:01:01</td>\n",
       "      <td>NaN</td>\n",
       "    </tr>\n",
       "    <tr>\n",
       "      <th>4</th>\n",
       "      <td>2023-07-11 15:45:49</td>\n",
       "      <td>2024-05-03 15:06:22</td>\n",
       "    </tr>\n",
       "    <tr>\n",
       "      <th>...</th>\n",
       "      <td>...</td>\n",
       "      <td>...</td>\n",
       "    </tr>\n",
       "    <tr>\n",
       "      <th>15858</th>\n",
       "      <td>2023-03-10 20:23:58</td>\n",
       "      <td>2024-04-22 10:48:08</td>\n",
       "    </tr>\n",
       "    <tr>\n",
       "      <th>15859</th>\n",
       "      <td>2023-10-13 14:43:57</td>\n",
       "      <td>NaN</td>\n",
       "    </tr>\n",
       "    <tr>\n",
       "      <th>15860</th>\n",
       "      <td>2022-09-14 19:17:24</td>\n",
       "      <td>2024-04-22 10:48:08</td>\n",
       "    </tr>\n",
       "    <tr>\n",
       "      <th>15861</th>\n",
       "      <td>2024-04-22 17:56:03</td>\n",
       "      <td>NaN</td>\n",
       "    </tr>\n",
       "    <tr>\n",
       "      <th>15862</th>\n",
       "      <td>2023-11-08 18:09:10</td>\n",
       "      <td>NaN</td>\n",
       "    </tr>\n",
       "  </tbody>\n",
       "</table>\n",
       "<p>15863 rows × 2 columns</p>\n",
       "</div>"
      ],
      "text/plain": [
       "       contentUpdateDate_x  contentUpdateDate_y\n",
       "0      2024-12-24 11:18:48                  NaN\n",
       "1      2022-12-01 14:09:06  2024-12-12 14:10:43\n",
       "2      2022-12-11 19:02:29  2024-10-22 16:23:36\n",
       "3      2023-09-19 19:01:01                  NaN\n",
       "4      2023-07-11 15:45:49  2024-05-03 15:06:22\n",
       "...                    ...                  ...\n",
       "15858  2023-03-10 20:23:58  2024-04-22 10:48:08\n",
       "15859  2023-10-13 14:43:57                  NaN\n",
       "15860  2022-09-14 19:17:24  2024-04-22 10:48:08\n",
       "15861  2024-04-22 17:56:03                  NaN\n",
       "15862  2023-11-08 18:09:10                  NaN\n",
       "\n",
       "[15863 rows x 2 columns]"
      ]
     },
     "execution_count": 148,
     "metadata": {},
     "output_type": "execute_result"
    }
   ],
   "source": [
    "# identify rows where contentUpdateDates are not equal between the two columns\n",
    "df_merged[df_merged['contentUpdateDate_x'] != df_merged['contentUpdateDate_y']][['contentUpdateDate_x', 'contentUpdateDate_y']]"
   ]
  },
  {
   "cell_type": "code",
   "execution_count": 150,
   "id": "1764a4a8-b991-4776-82aa-d537633f2cd0",
   "metadata": {},
   "outputs": [
    {
     "data": {
      "text/html": [
       "<div>\n",
       "<style scoped>\n",
       "    .dataframe tbody tr th:only-of-type {\n",
       "        vertical-align: middle;\n",
       "    }\n",
       "\n",
       "    .dataframe tbody tr th {\n",
       "        vertical-align: top;\n",
       "    }\n",
       "\n",
       "    .dataframe thead th {\n",
       "        text-align: right;\n",
       "    }\n",
       "</style>\n",
       "<table border=\"1\" class=\"dataframe\">\n",
       "  <thead>\n",
       "    <tr style=\"text-align: right;\">\n",
       "      <th></th>\n",
       "      <th>projectID</th>\n",
       "      <th>contentUpdateDate_x</th>\n",
       "      <th>contentUpdateDate_y</th>\n",
       "    </tr>\n",
       "  </thead>\n",
       "  <tbody>\n",
       "    <tr>\n",
       "      <th>8261</th>\n",
       "      <td>101088427</td>\n",
       "      <td>2023-07-13 18:34:20</td>\n",
       "      <td>NaN</td>\n",
       "    </tr>\n",
       "    <tr>\n",
       "      <th>13177</th>\n",
       "      <td>101055053</td>\n",
       "      <td>2024-09-06 18:38:28</td>\n",
       "      <td>NaN</td>\n",
       "    </tr>\n",
       "    <tr>\n",
       "      <th>6487</th>\n",
       "      <td>101166201</td>\n",
       "      <td>2024-07-23 10:04:23</td>\n",
       "      <td>NaN</td>\n",
       "    </tr>\n",
       "    <tr>\n",
       "      <th>11874</th>\n",
       "      <td>101039378</td>\n",
       "      <td>2022-07-05 09:26:09</td>\n",
       "      <td>NaN</td>\n",
       "    </tr>\n",
       "    <tr>\n",
       "      <th>1423</th>\n",
       "      <td>101153804</td>\n",
       "      <td>2024-09-06 18:23:17</td>\n",
       "      <td>NaN</td>\n",
       "    </tr>\n",
       "    <tr>\n",
       "      <th>7302</th>\n",
       "      <td>101082265</td>\n",
       "      <td>2023-06-29 13:51:21</td>\n",
       "      <td>NaN</td>\n",
       "    </tr>\n",
       "    <tr>\n",
       "      <th>8112</th>\n",
       "      <td>101124680</td>\n",
       "      <td>2024-09-06 18:25:13</td>\n",
       "      <td>NaN</td>\n",
       "    </tr>\n",
       "    <tr>\n",
       "      <th>9196</th>\n",
       "      <td>101089213</td>\n",
       "      <td>2023-07-13 18:44:49</td>\n",
       "      <td>NaN</td>\n",
       "    </tr>\n",
       "    <tr>\n",
       "      <th>4730</th>\n",
       "      <td>101159827</td>\n",
       "      <td>2024-05-20 14:32:18</td>\n",
       "      <td>NaN</td>\n",
       "    </tr>\n",
       "    <tr>\n",
       "      <th>304</th>\n",
       "      <td>101086741</td>\n",
       "      <td>2024-09-06 18:26:08</td>\n",
       "      <td>2024-07-29 11:51:10</td>\n",
       "    </tr>\n",
       "    <tr>\n",
       "      <th>14800</th>\n",
       "      <td>101081776</td>\n",
       "      <td>2022-10-10 14:02:13</td>\n",
       "      <td>2024-12-24 10:22:10</td>\n",
       "    </tr>\n",
       "    <tr>\n",
       "      <th>3220</th>\n",
       "      <td>101096309</td>\n",
       "      <td>2022-12-30 17:14:52</td>\n",
       "      <td>2025-01-03 10:46:27</td>\n",
       "    </tr>\n",
       "    <tr>\n",
       "      <th>13029</th>\n",
       "      <td>101105768</td>\n",
       "      <td>2023-07-11 16:11:09</td>\n",
       "      <td>NaN</td>\n",
       "    </tr>\n",
       "    <tr>\n",
       "      <th>154</th>\n",
       "      <td>101114192</td>\n",
       "      <td>2023-06-28 17:05:36</td>\n",
       "      <td>2024-12-17 14:30:07</td>\n",
       "    </tr>\n",
       "    <tr>\n",
       "      <th>14398</th>\n",
       "      <td>101069705</td>\n",
       "      <td>2022-06-24 18:00:10</td>\n",
       "      <td>2024-11-18 14:55:01</td>\n",
       "    </tr>\n",
       "    <tr>\n",
       "      <th>14239</th>\n",
       "      <td>101168906</td>\n",
       "      <td>2024-06-10 15:57:07</td>\n",
       "      <td>NaN</td>\n",
       "    </tr>\n",
       "    <tr>\n",
       "      <th>6042</th>\n",
       "      <td>101185509</td>\n",
       "      <td>2024-12-17 11:14:25</td>\n",
       "      <td>NaN</td>\n",
       "    </tr>\n",
       "    <tr>\n",
       "      <th>10271</th>\n",
       "      <td>101088063</td>\n",
       "      <td>2023-11-03 14:18:36</td>\n",
       "      <td>NaN</td>\n",
       "    </tr>\n",
       "    <tr>\n",
       "      <th>2715</th>\n",
       "      <td>101106814</td>\n",
       "      <td>2023-06-28 16:55:54</td>\n",
       "      <td>NaN</td>\n",
       "    </tr>\n",
       "    <tr>\n",
       "      <th>6902</th>\n",
       "      <td>101075496</td>\n",
       "      <td>2022-09-04 12:47:56</td>\n",
       "      <td>2024-07-08 12:27:20</td>\n",
       "    </tr>\n",
       "  </tbody>\n",
       "</table>\n",
       "</div>"
      ],
      "text/plain": [
       "       projectID  contentUpdateDate_x  contentUpdateDate_y\n",
       "8261   101088427  2023-07-13 18:34:20                  NaN\n",
       "13177  101055053  2024-09-06 18:38:28                  NaN\n",
       "6487   101166201  2024-07-23 10:04:23                  NaN\n",
       "11874  101039378  2022-07-05 09:26:09                  NaN\n",
       "1423   101153804  2024-09-06 18:23:17                  NaN\n",
       "7302   101082265  2023-06-29 13:51:21                  NaN\n",
       "8112   101124680  2024-09-06 18:25:13                  NaN\n",
       "9196   101089213  2023-07-13 18:44:49                  NaN\n",
       "4730   101159827  2024-05-20 14:32:18                  NaN\n",
       "304    101086741  2024-09-06 18:26:08  2024-07-29 11:51:10\n",
       "14800  101081776  2022-10-10 14:02:13  2024-12-24 10:22:10\n",
       "3220   101096309  2022-12-30 17:14:52  2025-01-03 10:46:27\n",
       "13029  101105768  2023-07-11 16:11:09                  NaN\n",
       "154    101114192  2023-06-28 17:05:36  2024-12-17 14:30:07\n",
       "14398  101069705  2022-06-24 18:00:10  2024-11-18 14:55:01\n",
       "14239  101168906  2024-06-10 15:57:07                  NaN\n",
       "6042   101185509  2024-12-17 11:14:25                  NaN\n",
       "10271  101088063  2023-11-03 14:18:36                  NaN\n",
       "2715   101106814  2023-06-28 16:55:54                  NaN\n",
       "6902   101075496  2022-09-04 12:47:56  2024-07-08 12:27:20"
      ]
     },
     "execution_count": 150,
     "metadata": {},
     "output_type": "execute_result"
    }
   ],
   "source": [
    "# print to see the 20 projects (to see if contentUpdateDates overlap, ...)\n",
    "df_merged[df_merged['contentUpdateDate_x'] != df_merged['title_y']][['projectID', 'contentUpdateDate_x', 'contentUpdateDate_y']].sample(20)"
   ]
  },
  {
   "cell_type": "code",
   "execution_count": 152,
   "id": "7e61a9f2-f489-4dcc-94fd-c4d6d0725b20",
   "metadata": {},
   "outputs": [
    {
     "data": {
      "text/plain": [
       "0"
      ]
     },
     "execution_count": 152,
     "metadata": {},
     "output_type": "execute_result"
    }
   ],
   "source": [
    "# check if there are missings for both contentUpdateDate columns pages \n",
    "(df_merged['contentUpdateDate_x'].isna() & df_merged['contentUpdateDate_y'].isna()).sum() #based on the explorative analysis, rcn_x is kept"
   ]
  },
  {
   "cell_type": "code",
   "execution_count": 154,
   "id": "3097eb89-4147-4f60-a5d1-6a215d1ff93e",
   "metadata": {},
   "outputs": [
    {
     "data": {
      "text/plain": [
       "0"
      ]
     },
     "execution_count": 154,
     "metadata": {},
     "output_type": "execute_result"
    }
   ],
   "source": [
    "# check if contentUpdateDate_x has any missings (0, contentUpdateDate_y has 12182 missings) \n",
    "df_merged['contentUpdateDate_x'].isna().sum()"
   ]
  },
  {
   "cell_type": "code",
   "execution_count": 142,
   "id": "0833b678-28e9-4652-8979-f05ec8690398",
   "metadata": {},
   "outputs": [
    {
     "data": {
      "text/plain": [
       "12182"
      ]
     },
     "execution_count": 142,
     "metadata": {},
     "output_type": "execute_result"
    }
   ],
   "source": [
    "# missings contentUpdateDate_y (12182 missing)\n",
    "df_merged['contentUpdateDate_y'].isna().sum()"
   ]
  },
  {
   "cell_type": "markdown",
   "id": "ab900c8a-f489-476f-ac64-1c0103c1d72c",
   "metadata": {},
   "source": [
    "To check for acronymn (acronym & projectAcronym)"
   ]
  },
  {
   "cell_type": "code",
   "execution_count": 167,
   "id": "37f58873-dfda-4390-bece-48608c64663b",
   "metadata": {},
   "outputs": [
    {
     "data": {
      "text/plain": [
       "False    12182\n",
       "True      3681\n",
       "Name: count, dtype: int64"
      ]
     },
     "execution_count": 167,
     "metadata": {},
     "output_type": "execute_result"
    }
   ],
   "source": [
    "# to see how many acronymns are the same between the two columns (3681 are equal, 12182 not (are missings, see below))\n",
    "(df_merged['acronym'] == df_merged['projectAcronym']).value_counts()"
   ]
  },
  {
   "cell_type": "code",
   "execution_count": 165,
   "id": "7cda0db4-e670-4a73-990d-59d0fbb25098",
   "metadata": {},
   "outputs": [
    {
     "data": {
      "text/html": [
       "<div>\n",
       "<style scoped>\n",
       "    .dataframe tbody tr th:only-of-type {\n",
       "        vertical-align: middle;\n",
       "    }\n",
       "\n",
       "    .dataframe tbody tr th {\n",
       "        vertical-align: top;\n",
       "    }\n",
       "\n",
       "    .dataframe thead th {\n",
       "        text-align: right;\n",
       "    }\n",
       "</style>\n",
       "<table border=\"1\" class=\"dataframe\">\n",
       "  <thead>\n",
       "    <tr style=\"text-align: right;\">\n",
       "      <th></th>\n",
       "      <th>acronym</th>\n",
       "      <th>projectAcronym</th>\n",
       "    </tr>\n",
       "  </thead>\n",
       "  <tbody>\n",
       "    <tr>\n",
       "      <th>0</th>\n",
       "      <td>PvSeroRDT</td>\n",
       "      <td>NaN</td>\n",
       "    </tr>\n",
       "    <tr>\n",
       "      <th>3</th>\n",
       "      <td>CHIKVAX_CHIM</td>\n",
       "      <td>NaN</td>\n",
       "    </tr>\n",
       "    <tr>\n",
       "      <th>6</th>\n",
       "      <td>EPiTB</td>\n",
       "      <td>NaN</td>\n",
       "    </tr>\n",
       "    <tr>\n",
       "      <th>7</th>\n",
       "      <td>CECABI II</td>\n",
       "      <td>NaN</td>\n",
       "    </tr>\n",
       "    <tr>\n",
       "      <th>10</th>\n",
       "      <td>CO-INVESTIN</td>\n",
       "      <td>NaN</td>\n",
       "    </tr>\n",
       "    <tr>\n",
       "      <th>...</th>\n",
       "      <td>...</td>\n",
       "      <td>...</td>\n",
       "    </tr>\n",
       "    <tr>\n",
       "      <th>15852</th>\n",
       "      <td>Ecosys4you</td>\n",
       "      <td>NaN</td>\n",
       "    </tr>\n",
       "    <tr>\n",
       "      <th>15855</th>\n",
       "      <td>EU TalentON</td>\n",
       "      <td>NaN</td>\n",
       "    </tr>\n",
       "    <tr>\n",
       "      <th>15859</th>\n",
       "      <td>RESAVER_2023</td>\n",
       "      <td>NaN</td>\n",
       "    </tr>\n",
       "    <tr>\n",
       "      <th>15861</th>\n",
       "      <td>EUCYS2024</td>\n",
       "      <td>NaN</td>\n",
       "    </tr>\n",
       "    <tr>\n",
       "      <th>15862</th>\n",
       "      <td>CO-VALUE</td>\n",
       "      <td>NaN</td>\n",
       "    </tr>\n",
       "  </tbody>\n",
       "</table>\n",
       "<p>12182 rows × 2 columns</p>\n",
       "</div>"
      ],
      "text/plain": [
       "            acronym projectAcronym\n",
       "0         PvSeroRDT            NaN\n",
       "3      CHIKVAX_CHIM            NaN\n",
       "6             EPiTB            NaN\n",
       "7         CECABI II            NaN\n",
       "10      CO-INVESTIN            NaN\n",
       "...             ...            ...\n",
       "15852    Ecosys4you            NaN\n",
       "15855   EU TalentON            NaN\n",
       "15859  RESAVER_2023            NaN\n",
       "15861     EUCYS2024            NaN\n",
       "15862      CO-VALUE            NaN\n",
       "\n",
       "[12182 rows x 2 columns]"
      ]
     },
     "execution_count": 165,
     "metadata": {},
     "output_type": "execute_result"
    }
   ],
   "source": [
    "# identify rows where acronyms are not equal between the two columns\n",
    "df_merged[df_merged['acronym'] != df_merged['projectAcronym']][['acronym', 'projectAcronym']]"
   ]
  },
  {
   "cell_type": "code",
   "execution_count": 163,
   "id": "84743862-0587-42fe-b076-e4472c782674",
   "metadata": {},
   "outputs": [
    {
     "data": {
      "text/html": [
       "<div>\n",
       "<style scoped>\n",
       "    .dataframe tbody tr th:only-of-type {\n",
       "        vertical-align: middle;\n",
       "    }\n",
       "\n",
       "    .dataframe tbody tr th {\n",
       "        vertical-align: top;\n",
       "    }\n",
       "\n",
       "    .dataframe thead th {\n",
       "        text-align: right;\n",
       "    }\n",
       "</style>\n",
       "<table border=\"1\" class=\"dataframe\">\n",
       "  <thead>\n",
       "    <tr style=\"text-align: right;\">\n",
       "      <th></th>\n",
       "      <th>projectID</th>\n",
       "      <th>acronym</th>\n",
       "      <th>projectAcronym</th>\n",
       "    </tr>\n",
       "  </thead>\n",
       "  <tbody>\n",
       "    <tr>\n",
       "      <th>8913</th>\n",
       "      <td>101162939</td>\n",
       "      <td>I-BOT</td>\n",
       "      <td>NaN</td>\n",
       "    </tr>\n",
       "    <tr>\n",
       "      <th>11223</th>\n",
       "      <td>101157280</td>\n",
       "      <td>DYNALIP</td>\n",
       "      <td>NaN</td>\n",
       "    </tr>\n",
       "    <tr>\n",
       "      <th>7787</th>\n",
       "      <td>101172887</td>\n",
       "      <td>EnerTEF</td>\n",
       "      <td>NaN</td>\n",
       "    </tr>\n",
       "    <tr>\n",
       "      <th>10493</th>\n",
       "      <td>101089326</td>\n",
       "      <td>AssemblingLife</td>\n",
       "      <td>NaN</td>\n",
       "    </tr>\n",
       "    <tr>\n",
       "      <th>791</th>\n",
       "      <td>101151099</td>\n",
       "      <td>MyeMembrane</td>\n",
       "      <td>NaN</td>\n",
       "    </tr>\n",
       "    <tr>\n",
       "      <th>4492</th>\n",
       "      <td>101103870</td>\n",
       "      <td>TAKEBACK</td>\n",
       "      <td>NaN</td>\n",
       "    </tr>\n",
       "    <tr>\n",
       "      <th>14778</th>\n",
       "      <td>101191695</td>\n",
       "      <td>STRONG-UR</td>\n",
       "      <td>NaN</td>\n",
       "    </tr>\n",
       "    <tr>\n",
       "      <th>1736</th>\n",
       "      <td>101197406</td>\n",
       "      <td>HUPRES-SMART</td>\n",
       "      <td>NaN</td>\n",
       "    </tr>\n",
       "    <tr>\n",
       "      <th>4133</th>\n",
       "      <td>101081749</td>\n",
       "      <td>Cochisa</td>\n",
       "      <td>NaN</td>\n",
       "    </tr>\n",
       "    <tr>\n",
       "      <th>3987</th>\n",
       "      <td>101168752</td>\n",
       "      <td>SECRET</td>\n",
       "      <td>NaN</td>\n",
       "    </tr>\n",
       "    <tr>\n",
       "      <th>8991</th>\n",
       "      <td>101125937</td>\n",
       "      <td>EvolSWARM</td>\n",
       "      <td>NaN</td>\n",
       "    </tr>\n",
       "    <tr>\n",
       "      <th>1414</th>\n",
       "      <td>101211206</td>\n",
       "      <td>FORCEFuel</td>\n",
       "      <td>NaN</td>\n",
       "    </tr>\n",
       "    <tr>\n",
       "      <th>3005</th>\n",
       "      <td>101064225</td>\n",
       "      <td>NEARCOAST</td>\n",
       "      <td>NaN</td>\n",
       "    </tr>\n",
       "    <tr>\n",
       "      <th>7399</th>\n",
       "      <td>101131771</td>\n",
       "      <td>Lasers4EU</td>\n",
       "      <td>NaN</td>\n",
       "    </tr>\n",
       "    <tr>\n",
       "      <th>11806</th>\n",
       "      <td>101040070</td>\n",
       "      <td>FARRIO</td>\n",
       "      <td>NaN</td>\n",
       "    </tr>\n",
       "    <tr>\n",
       "      <th>5124</th>\n",
       "      <td>101135486</td>\n",
       "      <td>DigiCell</td>\n",
       "      <td>NaN</td>\n",
       "    </tr>\n",
       "    <tr>\n",
       "      <th>14200</th>\n",
       "      <td>101156363</td>\n",
       "      <td>BioINSouth</td>\n",
       "      <td>NaN</td>\n",
       "    </tr>\n",
       "    <tr>\n",
       "      <th>3761</th>\n",
       "      <td>101111203</td>\n",
       "      <td>PERSONA</td>\n",
       "      <td>NaN</td>\n",
       "    </tr>\n",
       "    <tr>\n",
       "      <th>8667</th>\n",
       "      <td>101161287</td>\n",
       "      <td>DISCO-DATA</td>\n",
       "      <td>NaN</td>\n",
       "    </tr>\n",
       "    <tr>\n",
       "      <th>14470</th>\n",
       "      <td>101103954</td>\n",
       "      <td>DISCO</td>\n",
       "      <td>NaN</td>\n",
       "    </tr>\n",
       "  </tbody>\n",
       "</table>\n",
       "</div>"
      ],
      "text/plain": [
       "       projectID         acronym projectAcronym\n",
       "8913   101162939           I-BOT            NaN\n",
       "11223  101157280         DYNALIP            NaN\n",
       "7787   101172887         EnerTEF            NaN\n",
       "10493  101089326  AssemblingLife            NaN\n",
       "791    101151099     MyeMembrane            NaN\n",
       "4492   101103870        TAKEBACK            NaN\n",
       "14778  101191695       STRONG-UR            NaN\n",
       "1736   101197406    HUPRES-SMART            NaN\n",
       "4133   101081749         Cochisa            NaN\n",
       "3987   101168752          SECRET            NaN\n",
       "8991   101125937       EvolSWARM            NaN\n",
       "1414   101211206       FORCEFuel            NaN\n",
       "3005   101064225       NEARCOAST            NaN\n",
       "7399   101131771       Lasers4EU            NaN\n",
       "11806  101040070          FARRIO            NaN\n",
       "5124   101135486        DigiCell            NaN\n",
       "14200  101156363      BioINSouth            NaN\n",
       "3761   101111203         PERSONA            NaN\n",
       "8667   101161287      DISCO-DATA            NaN\n",
       "14470  101103954           DISCO            NaN"
      ]
     },
     "execution_count": 163,
     "metadata": {},
     "output_type": "execute_result"
    }
   ],
   "source": [
    "# print to see the 20 projects (to see if contentUpdateDates overlap, ...)\n",
    "df_merged[df_merged['acronym'] != df_merged['projectAcronym']][['projectID', 'acronym', 'projectAcronym']].sample(20)"
   ]
  },
  {
   "cell_type": "code",
   "execution_count": 161,
   "id": "b66f94a4-aef9-42bd-b3af-d07122a1ea81",
   "metadata": {},
   "outputs": [
    {
     "data": {
      "text/plain": [
       "0"
      ]
     },
     "execution_count": 161,
     "metadata": {},
     "output_type": "execute_result"
    }
   ],
   "source": [
    "# check if there are missings for both acronyms columns pages \n",
    "(df_merged['acronym'].isna() & df_merged['projectAcronym'].isna()).sum() #based on the explorative analysis, acronym is kept"
   ]
  },
  {
   "cell_type": "code",
   "execution_count": 159,
   "id": "66aba960-21b9-4cd0-adb0-fed3b78d9b1b",
   "metadata": {},
   "outputs": [
    {
     "data": {
      "text/plain": [
       "0"
      ]
     },
     "execution_count": 159,
     "metadata": {},
     "output_type": "execute_result"
    }
   ],
   "source": [
    "# check if acronym has any missings (0, projectAcronym has 12182 missings) \n",
    "df_merged['acronym'].isna().sum()"
   ]
  },
  {
   "cell_type": "code",
   "execution_count": 157,
   "id": "93a96087-49c8-4efe-b65e-5c8274100726",
   "metadata": {},
   "outputs": [
    {
     "data": {
      "text/plain": [
       "12182"
      ]
     },
     "execution_count": 157,
     "metadata": {},
     "output_type": "execute_result"
    }
   ],
   "source": [
    "# missings projectAcronym (12182 missing)\n",
    "df_merged['projectAcronym'].isna().sum()"
   ]
  },
  {
   "cell_type": "markdown",
   "id": "9141ce73-c7b6-4cdd-829c-613d0ed4c4ad",
   "metadata": {},
   "source": [
    "Based on the analysis: the variables title_x, rcn_x, contentUpDate_x and acronym are kept (delete other columns)"
   ]
  },
  {
   "cell_type": "code",
   "execution_count": null,
   "id": "e31e10ef-29f0-454e-af9b-62bac478f245",
   "metadata": {},
   "outputs": [],
   "source": [
    "# delete other columns"
   ]
  },
  {
   "cell_type": "code",
   "execution_count": null,
   "id": "ecccc173-f1d0-4962-8bd2-90b50ff22784",
   "metadata": {},
   "outputs": [],
   "source": [
    "# check necesaty of other variables "
   ]
  },
  {
   "cell_type": "code",
   "execution_count": null,
   "id": "682d397c-ee90-46c6-9766-c7a1ae697d4c",
   "metadata": {},
   "outputs": [],
   "source": []
  },
  {
   "cell_type": "code",
   "execution_count": null,
   "id": "c6baf97f-db4a-4c7f-a269-17caa1f3c5e4",
   "metadata": {},
   "outputs": [],
   "source": []
  },
  {
   "cell_type": "code",
   "execution_count": null,
   "id": "c26b73df-7159-45bc-b4e1-869907f598d8",
   "metadata": {},
   "outputs": [],
   "source": []
  },
  {
   "cell_type": "code",
   "execution_count": null,
   "id": "3adaafe2-0003-4518-975d-e3e33f6f5259",
   "metadata": {},
   "outputs": [
    {
     "name": "stdout",
     "output_type": "stream",
     "text": [
      "                Column  Missing Values\n",
      "1               nature           15863\n",
      "6           attachment           14043\n",
      "3                   id           12182\n",
      "4              title_y           12182\n",
      "5       projectAcronym           12182\n",
      "7  contentUpdateDate_y           12182\n",
      "8                rcn_y           12182\n",
      "2             grantDoi              61\n",
      "0      ecSignatureDate               1\n"
     ]
    }
   ],
   "source": [
    "# missing values of columns in new dataset \n",
    "missing_values = df_merged.isna().sum()\n",
    "missing_values_df = missing_values[missing_values > 0].reset_index()\n",
    "missing_values_df.columns = ['Column', 'Missing Values']\n",
    "missing_values_df = missing_values_df.sort_values(by='Missing Values', ascending=False)\n",
    "print(missing_values_df) #based on the missing table the variable 'nature' is dropped, as it if missing for all values\n",
    "# based on the explorative analysis of the excel files, the variable attachment (an image + high missings) is dropped"
   ]
  },
  {
   "cell_type": "code",
   "execution_count": 1,
   "id": "e82044b9-74c1-4489-9e0b-44fc7a132953",
   "metadata": {},
   "outputs": [
    {
     "ename": "NameError",
     "evalue": "name 'df_merged' is not defined",
     "output_type": "error",
     "traceback": [
      "\u001b[31m---------------------------------------------------------------------------\u001b[39m",
      "\u001b[31mNameError\u001b[39m                                 Traceback (most recent call last)",
      "\u001b[36mCell\u001b[39m\u001b[36m \u001b[39m\u001b[32mIn[1]\u001b[39m\u001b[32m, line 1\u001b[39m\n\u001b[32m----> \u001b[39m\u001b[32m1\u001b[39m \u001b[38;5;28mprint\u001b[39m(\u001b[43mdf_merged\u001b[49m[\u001b[33m'\u001b[39m\u001b[33mid\u001b[39m\u001b[33m'\u001b[39m].head()) \u001b[38;5;66;03m#id = projectID_PSHORIZON -> also quite high missings (so dropped as no extra information is given when keeping this variable)\u001b[39;00m\n",
      "\u001b[31mNameError\u001b[39m: name 'df_merged' is not defined"
     ]
    }
   ],
   "source": [
    "print(df_merged['id'].head()) #id = projectID_PSHORIZON -> also quite high missings (so dropped as no extra information is given when keeping this variable)"
   ]
  },
  {
   "cell_type": "code",
   "execution_count": null,
   "id": "02e22ae4",
   "metadata": {},
   "outputs": [],
   "source": []
  }
 ],
 "metadata": {
  "kernelspec": {
   "display_name": "mda",
   "language": "python",
   "name": "python3"
  },
  "language_info": {
   "codemirror_mode": {
    "name": "ipython",
    "version": 3
   },
   "file_extension": ".py",
   "mimetype": "text/x-python",
   "name": "python",
   "nbconvert_exporter": "python",
   "pygments_lexer": "ipython3",
   "version": "3.12.9"
  }
 },
 "nbformat": 4,
 "nbformat_minor": 5
}
